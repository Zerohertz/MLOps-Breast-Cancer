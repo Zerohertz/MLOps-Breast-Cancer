{
 "cells": [
  {
   "cell_type": "code",
   "execution_count": 1,
   "id": "2f7ea571",
   "metadata": {
    "scrolled": true
   },
   "outputs": [
    {
     "name": "stdout",
     "output_type": "stream",
     "text": [
      "     mean radius  mean texture  mean perimeter  mean area  mean smoothness  \\\n",
      "0          17.99         10.38          122.80     1001.0          0.11840   \n",
      "1          20.57         17.77          132.90     1326.0          0.08474   \n",
      "2          19.69         21.25          130.00     1203.0          0.10960   \n",
      "3          11.42         20.38           77.58      386.1          0.14250   \n",
      "4          20.29         14.34          135.10     1297.0          0.10030   \n",
      "..           ...           ...             ...        ...              ...   \n",
      "564        21.56         22.39          142.00     1479.0          0.11100   \n",
      "565        20.13         28.25          131.20     1261.0          0.09780   \n",
      "566        16.60         28.08          108.30      858.1          0.08455   \n",
      "567        20.60         29.33          140.10     1265.0          0.11780   \n",
      "568         7.76         24.54           47.92      181.0          0.05263   \n",
      "\n",
      "     mean compactness  mean concavity  mean concave points  mean symmetry  \\\n",
      "0             0.27760         0.30010              0.14710         0.2419   \n",
      "1             0.07864         0.08690              0.07017         0.1812   \n",
      "2             0.15990         0.19740              0.12790         0.2069   \n",
      "3             0.28390         0.24140              0.10520         0.2597   \n",
      "4             0.13280         0.19800              0.10430         0.1809   \n",
      "..                ...             ...                  ...            ...   \n",
      "564           0.11590         0.24390              0.13890         0.1726   \n",
      "565           0.10340         0.14400              0.09791         0.1752   \n",
      "566           0.10230         0.09251              0.05302         0.1590   \n",
      "567           0.27700         0.35140              0.15200         0.2397   \n",
      "568           0.04362         0.00000              0.00000         0.1587   \n",
      "\n",
      "     mean fractal dimension  ...  worst radius  worst texture  \\\n",
      "0                   0.07871  ...        25.380          17.33   \n",
      "1                   0.05667  ...        24.990          23.41   \n",
      "2                   0.05999  ...        23.570          25.53   \n",
      "3                   0.09744  ...        14.910          26.50   \n",
      "4                   0.05883  ...        22.540          16.67   \n",
      "..                      ...  ...           ...            ...   \n",
      "564                 0.05623  ...        25.450          26.40   \n",
      "565                 0.05533  ...        23.690          38.25   \n",
      "566                 0.05648  ...        18.980          34.12   \n",
      "567                 0.07016  ...        25.740          39.42   \n",
      "568                 0.05884  ...         9.456          30.37   \n",
      "\n",
      "     worst perimeter  worst area  worst smoothness  worst compactness  \\\n",
      "0             184.60      2019.0           0.16220            0.66560   \n",
      "1             158.80      1956.0           0.12380            0.18660   \n",
      "2             152.50      1709.0           0.14440            0.42450   \n",
      "3              98.87       567.7           0.20980            0.86630   \n",
      "4             152.20      1575.0           0.13740            0.20500   \n",
      "..               ...         ...               ...                ...   \n",
      "564           166.10      2027.0           0.14100            0.21130   \n",
      "565           155.00      1731.0           0.11660            0.19220   \n",
      "566           126.70      1124.0           0.11390            0.30940   \n",
      "567           184.60      1821.0           0.16500            0.86810   \n",
      "568            59.16       268.6           0.08996            0.06444   \n",
      "\n",
      "     worst concavity  worst concave points  worst symmetry  \\\n",
      "0             0.7119                0.2654          0.4601   \n",
      "1             0.2416                0.1860          0.2750   \n",
      "2             0.4504                0.2430          0.3613   \n",
      "3             0.6869                0.2575          0.6638   \n",
      "4             0.4000                0.1625          0.2364   \n",
      "..               ...                   ...             ...   \n",
      "564           0.4107                0.2216          0.2060   \n",
      "565           0.3215                0.1628          0.2572   \n",
      "566           0.3403                0.1418          0.2218   \n",
      "567           0.9387                0.2650          0.4087   \n",
      "568           0.0000                0.0000          0.2871   \n",
      "\n",
      "     worst fractal dimension  \n",
      "0                    0.11890  \n",
      "1                    0.08902  \n",
      "2                    0.08758  \n",
      "3                    0.17300  \n",
      "4                    0.07678  \n",
      "..                       ...  \n",
      "564                  0.07115  \n",
      "565                  0.06637  \n",
      "566                  0.07820  \n",
      "567                  0.12400  \n",
      "568                  0.07039  \n",
      "\n",
      "[569 rows x 30 columns] 0      0\n",
      "1      0\n",
      "2      0\n",
      "3      0\n",
      "4      0\n",
      "      ..\n",
      "564    0\n",
      "565    0\n",
      "566    0\n",
      "567    0\n",
      "568    1\n",
      "Name: target, Length: 569, dtype: int64\n"
     ]
    }
   ],
   "source": [
    "from sklearn.datasets import load_breast_cancer\n",
    "\n",
    "X, y = load_breast_cancer(return_X_y=True, as_frame=True)\n",
    "print(X, y)"
   ]
  },
  {
   "cell_type": "code",
   "execution_count": 2,
   "id": "cae0c604",
   "metadata": {},
   "outputs": [],
   "source": [
    "from sklearn.model_selection import train_test_split\n",
    "\n",
    "X_train, X_valid, y_train, y_valid = train_test_split(X, y, train_size=0.8, random_state=2023)"
   ]
  },
  {
   "cell_type": "code",
   "execution_count": 3,
   "id": "0cbbd0e5",
   "metadata": {},
   "outputs": [
    {
     "name": "stdout",
     "output_type": "stream",
     "text": [
      "[[2.175e+01 2.099e+01 1.473e+02 1.491e+03 9.401e-02 1.961e-01 2.195e-01\n",
      "  1.088e-01 1.721e-01 6.194e-02 1.167e+00 1.352e+00 8.867e+00 1.568e+02\n",
      "  5.687e-03 4.960e-02 6.329e-02 1.561e-02 1.924e-02 4.614e-03 2.819e+01\n",
      "  2.818e+01 1.959e+02 2.384e+03 1.272e-01 4.725e-01 5.807e-01 1.841e-01\n",
      "  2.833e-01 8.858e-02]\n",
      " [1.234e+01 1.495e+01 7.829e+01 4.691e+02 8.682e-02 4.571e-02 2.109e-02\n",
      "  2.054e-02 1.571e-01 5.708e-02 3.833e-01 9.078e-01 2.602e+00 3.015e+01\n",
      "  7.702e-03 8.491e-03 1.307e-02 1.030e-02 2.970e-02 1.432e-03 1.318e+01\n",
      "  1.685e+01 8.411e+01 5.331e+02 1.048e-01 6.744e-02 4.921e-02 4.793e-02\n",
      "  2.298e-01 5.974e-02]]\n",
      "[[ 2.08107858  0.41696552  2.19118309  2.25631108 -0.16976244  1.70987722\n",
      "   1.57263893  1.47929251 -0.32425059 -0.11782623  2.58958933  0.21561916\n",
      "   2.78411691  2.36576467 -0.44551207  1.38621647  1.07342207  0.58857721\n",
      "  -0.15257254  0.30594801  2.39389404  0.43463953  2.55468443  2.53243357\n",
      "  -0.21386067  1.39682258  1.46333875  1.02856198 -0.08936938  0.27299817]\n",
      " [-0.51630597 -1.00321945 -0.56963978 -0.53251737 -0.67138314 -1.09511772\n",
      "  -0.83672044 -0.72766093 -0.85457969 -0.79660478 -0.08896036 -0.55406273\n",
      "  -0.14080483 -0.22688826  0.19916731 -0.95073992 -0.62841047 -0.24187625\n",
      "   1.07637721 -0.86659707 -0.63752839 -1.43510912 -0.68652996 -0.60516179\n",
      "  -1.19028316 -1.17415602 -1.05780936 -0.99516102 -0.9412271  -1.308775  ]]\n"
     ]
    }
   ],
   "source": [
    "from sklearn.preprocessing import StandardScaler\n",
    "\n",
    "scaler = StandardScaler()\n",
    "scaled_X_train = scaler.fit_transform(X_train)\n",
    "scaled_X_valid = scaler.transform(X_valid)\n",
    "\n",
    "print(X_train.values[0:2])\n",
    "print(scaled_X_train[0:2])"
   ]
  },
  {
   "cell_type": "code",
   "execution_count": 4,
   "id": "762c0096",
   "metadata": {},
   "outputs": [
    {
     "name": "stdout",
     "output_type": "stream",
     "text": [
      "Train Accuracy [%]: 98.24175824175823\n",
      "Valid Accuracy [%]: 97.36842105263158\n"
     ]
    }
   ],
   "source": [
    "from sklearn.svm import SVC\n",
    "from sklearn.metrics import accuracy_score\n",
    "\n",
    "classifier = SVC()\n",
    "classifier.fit(scaled_X_train, y_train)\n",
    "\n",
    "train_pred = classifier.predict(scaled_X_train)\n",
    "valid_pred = classifier.predict(scaled_X_valid)\n",
    "\n",
    "train_acc = accuracy_score(y_true=y_train, y_pred=train_pred)\n",
    "valid_acc = accuracy_score(y_true=y_valid, y_pred=valid_pred)\n",
    "\n",
    "print(\"Train Accuracy [%]:\", train_acc * 100)\n",
    "print(\"Valid Accuracy [%]:\", valid_acc * 100)"
   ]
  },
  {
   "cell_type": "code",
   "execution_count": 5,
   "id": "1dc10198",
   "metadata": {},
   "outputs": [
    {
     "data": {
      "text/plain": [
       "['Model/classifier.joblib']"
      ]
     },
     "execution_count": 5,
     "metadata": {},
     "output_type": "execute_result"
    }
   ],
   "source": [
    "import joblib\n",
    "\n",
    "joblib.dump(scaler, \"Model/scaler.joblib\")\n",
    "joblib.dump(classifier, \"Model/classifier.joblib\")"
   ]
  },
  {
   "cell_type": "code",
   "execution_count": 1,
   "id": "1c1babdb",
   "metadata": {},
   "outputs": [
    {
     "name": "stdout",
     "output_type": "stream",
     "text": [
      "Train Accuracy : 0.9875\n",
      "Valid Accuracy : 0.95\n"
     ]
    },
    {
     "name": "stderr",
     "output_type": "stream",
     "text": [
      "/var/folders/4q/yy67hb5j5gl8psvr3xlv31140000gn/T/ipykernel_7815/354741862.py:12: UserWarning: pandas only supports SQLAlchemy connectable (engine/connection) or database string URI or sqlite3 DBAPI2 connection. Other DBAPI2 objects are not tested. Please consider using SQLAlchemy.\n",
      "  df = pd.read_sql(\"SELECT * FROM breast_cancer_data ORDER BY id DESC LIMIT 100\", db_connect)\n"
     ]
    }
   ],
   "source": [
    "import joblib\n",
    "import pandas as pd\n",
    "import psycopg2\n",
    "from sklearn.metrics import accuracy_score\n",
    "from sklearn.model_selection import train_test_split\n",
    "from sklearn.preprocessing import StandardScaler\n",
    "from sklearn.pipeline import Pipeline\n",
    "from sklearn.svm import SVC\n",
    "\n",
    "# PGPASSWORD=qwer123! psql -h localhost -p 1234 -U zerohertz -d Breast_Cancer\n",
    "db_connect = psycopg2.connect(host=\"localhost\", database=\"Breast_Cancer\", user=\"zerohertz\", password=\"qwer123!\", port=\"1234\")\n",
    "df = pd.read_sql(\"SELECT * FROM breast_cancer_data ORDER BY id DESC LIMIT 100\", db_connect)\n",
    "X, y = df.drop([\"id\", \"timestamp\", \"target\"], axis=\"columns\"), df[\"target\"]\n",
    "X_train, X_valid, y_train, y_valid = train_test_split(X, y, train_size=0.8, random_state=2023)\n",
    "\n",
    "model_pipeline = Pipeline([(\"scaler\", StandardScaler()), (\"svc\", SVC())])\n",
    "model_pipeline.fit(X_train, y_train)\n",
    "\n",
    "train_pred = model_pipeline.predict(X_train)\n",
    "valid_pred = model_pipeline.predict(X_valid)\n",
    "\n",
    "train_acc = accuracy_score(y_true=y_train, y_pred=train_pred)\n",
    "valid_acc = accuracy_score(y_true=y_valid, y_pred=valid_pred)\n",
    "\n",
    "print(\"Train Accuracy :\", train_acc)\n",
    "print(\"Valid Accuracy :\", valid_acc)\n",
    "\n",
    "joblib.dump(model_pipeline, \"Etc./db_pipeline.joblib\")\n",
    "\n",
    "df.to_csv(\"Etc./DB.csv\", index=False)"
   ]
  },
  {
   "cell_type": "code",
   "execution_count": 1,
   "id": "2578635d",
   "metadata": {},
   "outputs": [
    {
     "name": "stdout",
     "output_type": "stream",
     "text": [
      "Load Model Train Accuracy : 0.9875\n",
      "Load Model Valid Accuracy : 0.95\n"
     ]
    }
   ],
   "source": [
    "import joblib\n",
    "import pandas as pd\n",
    "from sklearn.metrics import accuracy_score\n",
    "from sklearn.model_selection import train_test_split\n",
    "\n",
    "df = pd.read_csv(\"Etc./DB.csv\")\n",
    "X, y = df.drop([\"id\", \"timestamp\", \"target\"], axis=\"columns\"), df[\"target\"]\n",
    "X_train, X_valid, y_train, y_valid = train_test_split(X, y, train_size=0.8, random_state=2023)\n",
    "\n",
    "pipeline_load = joblib.load(\"Etc./db_pipeline.joblib\")\n",
    "\n",
    "load_train_pred = pipeline_load.predict(X_train)\n",
    "load_valid_pred = pipeline_load.predict(X_valid)\n",
    "\n",
    "load_train_acc = accuracy_score(y_true=y_train, y_pred=load_train_pred)\n",
    "load_valid_acc = accuracy_score(y_true=y_valid, y_pred=load_valid_pred)\n",
    "\n",
    "print(\"Load Model Train Accuracy :\", load_train_acc)\n",
    "print(\"Load Model Valid Accuracy :\", load_valid_acc)"
   ]
  }
 ],
 "metadata": {
  "kernelspec": {
   "display_name": "Python 3 (ipykernel)",
   "language": "python",
   "name": "python3"
  },
  "language_info": {
   "codemirror_mode": {
    "name": "ipython",
    "version": 3
   },
   "file_extension": ".py",
   "mimetype": "text/x-python",
   "name": "python",
   "nbconvert_exporter": "python",
   "pygments_lexer": "ipython3",
   "version": "3.8.16"
  }
 },
 "nbformat": 4,
 "nbformat_minor": 5
}
